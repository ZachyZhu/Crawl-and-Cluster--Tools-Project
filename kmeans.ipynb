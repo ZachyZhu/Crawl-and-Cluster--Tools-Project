{
 "cells": [
  {
   "cell_type": "code",
   "execution_count": 6,
   "metadata": {},
   "outputs": [],
   "source": [
    "from sklearn.cluster import KMeans\n",
    "import pandas as pd\n",
    "import matplotlib.pyplot as plt"
   ]
  },
  {
   "cell_type": "code",
   "execution_count": null,
   "metadata": {},
   "outputs": [],
   "source": [
    "#The dateset has been normed\n",
    "#convert the csv into DataFrame, and then convert it into matrix\n",
    "df = pd.read_csv('finaldata.csv')\n",
    "dataSet = df.as_matrix(columns=None)\n",
    "# n_clusters=3, 3clusters are needed\n",
    "kmeans = KMeans(n_clusters=3, random_state=0).fit(dataSet)\n",
    "#Center(the value of each attribute) are obtained through cluster_centers\n",
    "center = kmeans.cluster_centers_\n",
    "df_center = pd.DataFrame(center, columns=['price', 'distance','type','area'])\n",
    "#label the result of each cluster.\n",
    "labels = kmeans.labels_\n",
    "#reset the label of original dataset as the cluster attribute.\n",
    "df = pd.DataFrame(dataSet, index=labels, columns=['price', 'distance','type','area'])\n",
    "df1 = df[df.index==0]\n",
    "df2 = df[df.index==1]\n",
    "df3 = df[df.index==2]\n",
    "#draw\n",
    "plt.figure(figsize=(10,8), dpi=80)\n",
    "axes = plt.subplot()\n",
    "#s is the size of the point，c is the color，marker is the variety of point.\n",
    "type1 = axes.scatter(df1.loc[:,['price']], df1.loc[:,['distance']], s=50, c='red', marker='d')\n",
    "type2 = axes.scatter(df2.loc[:,['price']], df2.loc[:,['distance']], s=50, c='green', marker='*')\n",
    "type3 = axes.scatter(df3.loc[:,['price']], df3.loc[:,['distance']], s=50, c='brown', marker='p')\n",
    "#show the center of the dataset.\n",
    "type_center = axes.scatter(df_center.loc[:,'price'], df_center.loc[:,'distance'], s=40, c='blue')\n",
    "plt.xlabel('price', fontsize=16)\n",
    "plt.ylabel('distance', fontsize=16)\n",
    "axes.legend((type1, type2, type3, type_center), ('0','1','2','center'), loc=1)\n",
    "plt.show()"
   ]
  },
  {
   "cell_type": "code",
   "execution_count": null,
   "metadata": {},
   "outputs": [],
   "source": []
  }
 ],
 "metadata": {
  "kernelspec": {
   "display_name": "Python 3",
   "language": "python",
   "name": "python3"
  },
  "language_info": {
   "codemirror_mode": {
    "name": "ipython",
    "version": 3
   },
   "file_extension": ".py",
   "mimetype": "text/x-python",
   "name": "python",
   "nbconvert_exporter": "python",
   "pygments_lexer": "ipython3",
   "version": "3.7.0"
  }
 },
 "nbformat": 4,
 "nbformat_minor": 2
}
